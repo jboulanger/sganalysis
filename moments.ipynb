{
 "cells": [
  {
   "cell_type": "code",
   "execution_count": null,
   "metadata": {},
   "outputs": [],
   "source": []
  },
  {
   "cell_type": "code",
   "execution_count": null,
   "metadata": {},
   "outputs": [],
   "source": [
    "from skimage import measure\n",
    "\n",
    "shape = (15,15,15)\n",
    "image = np.zeros(shape)\n",
    "\n",
    "# draw a 3d gaussian\n",
    "g = np.meshgrid([np.arange(n) for n in shape])\n",
    "sum([fro n in shape])\n",
    "\n",
    "\n",
    "measure.regionprops()"
   ]
  }
 ],
 "metadata": {
  "language_info": {
   "name": "python"
  },
  "orig_nbformat": 4
 },
 "nbformat": 4,
 "nbformat_minor": 2
}

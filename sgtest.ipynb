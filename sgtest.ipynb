{
 "cells": [
  {
   "cell_type": "code",
   "execution_count": 1,
   "metadata": {},
   "outputs": [],
   "source": [
    "%load_ext autoreload\n",
    "%autoreload 2\n",
    "import site\n",
    "site.addsitedir('../') "
   ]
  },
  {
   "cell_type": "code",
   "execution_count": 41,
   "metadata": {},
   "outputs": [
    {
     "name": "stdout",
     "output_type": "stream",
     "text": [
      "/media/cephfs2/userdata/Bullock_group/Yaiza/testsg/20210831_3hnocodazole_30'As_BicD2555_tub647_40X_001.lsm 0\n",
      "Processing [SG]\n",
      "  pixel size [1e-10, 111.16529820436341, 111.1652982043634]\n",
      "Segmenting images\n",
      "(1912, 1912)\n",
      "(1912, 1912)\n",
      "(1912, 1912)\n",
      "(1912, 1912)\n",
      "   image shape (1912, 1912)\n",
      " - Segmenting cells with mode 0\n",
      "    Cell size 450\n",
      "    Image shape (2, 1912, 1912)\n",
      " - Segmenting nuclei\n",
      " - Segmenting granule\n",
      " - Segmenting granule\n",
      " - Compute ROI statistics\n"
     ]
    }
   ],
   "source": [
    "import sganalysiswf as sga\n",
    "from pathlib import Path\n",
    "import pandas as pd\n",
    "folder = Path('/media/cephfs2/userdata/Bullock_group/Yaiza/testsg/')\n",
    "filelist = pd.read_csv(folder / 'filelist.csv')\n",
    "configfile = folder / 'config.json'\n",
    "config = sga.load_config(configfile)\n",
    "idx = 0\n",
    "filename = folder / filelist['filename'][idx]\n",
    "fov = filelist['fov'][idx]\n",
    "print(filename, fov)\n",
    "if config['Analysis'] == 'SG':    \n",
    "    stats, mip, labels, rois = sga.process_fov(filename, fov, config)\n",
    "else:\n",
    "    stats, mip, labels, rois = sga.process_fov_spread(filename, fov, config)"
   ]
  }
 ],
 "metadata": {
  "kernelspec": {
   "display_name": "imaging",
   "language": "python",
   "name": "python3"
  },
  "language_info": {
   "codemirror_mode": {
    "name": "ipython",
    "version": 3
   },
   "file_extension": ".py",
   "mimetype": "text/x-python",
   "name": "python",
   "nbconvert_exporter": "python",
   "pygments_lexer": "ipython3",
   "version": "3.9.13"
  },
  "orig_nbformat": 4
 },
 "nbformat": 4,
 "nbformat_minor": 2
}

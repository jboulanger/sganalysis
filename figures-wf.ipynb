{
 "cells": [
  {
   "cell_type": "markdown",
   "metadata": {},
   "source": [
    "# Analysis of all analysis\n",
    "Gather all csv files in a data frame and explore the datasets"
   ]
  },
  {
   "cell_type": "code",
   "execution_count": null,
   "metadata": {},
   "outputs": [],
   "source": [
    "import glob\n",
    "import pandas as pd\n",
    "cellfiles = glob.glob('/media/cephfs/data/StressGranule/results/cells*.csv')\n",
    "cells = pd.concat([ pd.read_csv(c) for c in cellfiles])\n",
    "cells.to_csv('cells.csv')\n",
    "granulefiles =  glob.glob('/media/cephfs/data/StressGranule/results/granules*.csv')\n",
    "granules = pd.concat([ pd.read_csv(c) for c in granulefiles])\n",
    "granules.to_csv('granules.csv')"
   ]
  },
  {
   "cell_type": "code",
   "execution_count": null,
   "metadata": {},
   "outputs": [],
   "source": [
    "# display the number of cell per condition\n",
    "pd.DataFrame(cells.groupby(by='Condition').size())"
   ]
  },
  {
   "cell_type": "code",
   "execution_count": null,
   "metadata": {},
   "outputs": [],
   "source": [
    "def facet_plot(data,cols,columns=4):\n",
    "    import math\n",
    "    rows = len(cols)//columns\n",
    "    fig, ax = plt.subplots(rows,columns,figsize=(6*columns,6*rows))    \n",
    "    for r in range(rows):\n",
    "        for c in range(columns):\n",
    "            if columns * r + c < len(cols)-1:\n",
    "                sns.boxplot(data=data,x=\"Condition\",y=cols[columns*r+c],ax=ax[r,c])                  \n",
    "                sns.despine(left=True)\n"
   ]
  },
  {
   "cell_type": "code",
   "execution_count": null,
   "metadata": {},
   "outputs": [],
   "source": [
    "# plot for the cell by cell file\n",
    "import matplotlib.pyplot as plt\n",
    "import seaborn as sns\n",
    "sns.set()\n",
    "sns.set_style(\"ticks\")\n",
    "facet_plot(cells,cells.columns[2:-3],4)\n",
    "plt.savefig('cells.pdf')"
   ]
  },
  {
   "cell_type": "code",
   "execution_count": null,
   "metadata": {},
   "outputs": [],
   "source": [
    "# all graphs for the the granule by granule file\n",
    "facet_plot(granules, granules.columns[3:17], 3)\n",
    "plt.savefig('granules.pdf')\n"
   ]
  }
 ],
 "metadata": {
  "interpreter": {
   "hash": "38064b25059860851452ac08236e9c7597dbe5e4f74a8b24ec9ee910415adca0"
  },
  "kernelspec": {
   "display_name": "Python 3",
   "language": "python",
   "name": "python3"
  },
  "language_info": {
   "codemirror_mode": {
    "name": "ipython",
    "version": 3
   },
   "file_extension": ".py",
   "mimetype": "text/x-python",
   "name": "python",
   "nbconvert_exporter": "python",
   "pygments_lexer": "ipython3",
   "version": "3.9.7"
  }
 },
 "nbformat": 4,
 "nbformat_minor": 2
}

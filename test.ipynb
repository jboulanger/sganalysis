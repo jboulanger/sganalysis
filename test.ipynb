{
 "cells": [
  {
   "cell_type": "code",
   "execution_count": null,
   "metadata": {},
   "outputs": [],
   "source": [
    "%load_ext autoreload\n",
    "%autoreload 2"
   ]
  },
  {
   "cell_type": "code",
   "execution_count": null,
   "metadata": {},
   "outputs": [],
   "source": [
    "import tifffile\n"
   ]
  },
  {
   "cell_type": "code",
   "execution_count": null,
   "metadata": {},
   "outputs": [],
   "source": [
    "x = tifffile.imread('/media/micro-nas-1/Bullock_lab/Yaiza/13:12:22/221115 BicD2-L790A-GFP HeLa FXR2 647 G3BP1 555 +As.lsm')\n",
    "x.shape"
   ]
  },
  {
   "cell_type": "code",
   "execution_count": null,
   "metadata": {},
   "outputs": [],
   "source": [
    "import numpy as np\n",
    "from scipy.stats import pearsonr, spearmanr\n",
    "import pandas as pd\n",
    "\n",
    "def manders_coefficients(mask1,mask2,im1=1,im2=1):\n",
    "    \"\"\"Compute Manders overlap coefficients\"\"\"\n",
    "    intersect = np.logical_and(mask1, mask2)\n",
    "    n1 = np.sum(mask1 * im1, dtype=float)\n",
    "    n2 = np.sum(mask2 * im2, dtype=float)\n",
    "    m1 = np.sum(intersect * im1, dtype=float) / n1 if n1 > 0 else 0\n",
    "    m2 = np.sum(intersect * im2, dtype=float) / n2 if n2 > 0 else 0\n",
    "    return ( m1, m2 )\n",
    "\n",
    "def colocalization(images, masks):\n",
    "    result = []\n",
    "    for i in range(len(images)):\n",
    "        for j in range(i + 1, len(images)):\n",
    "            union = np.logical_and(masks[i], masks[j])\n",
    "            pcc = pearsonr(images[i][union], images[j][union])[0]\n",
    "            scc = spearmanr(images[i][union], images[j][union])[0]\n",
    "            mcc = manders_coefficients(masks[i], masks[j], images[i], images[j])\n",
    "            result.append({\n",
    "                'index 1': i,\n",
    "                'index 2': j,\n",
    "                'Pearson correlation coefficient' : pcc, \n",
    "                'Spearman correlation coefficient' : scc,\n",
    "                'Manders correlation coefficient 1:2': mcc[0],\n",
    "                'Manders correlation coefficient 2:1': mcc[1],\n",
    "                })\n",
    "    return result\n",
    "\n",
    "res = colocalization(x[0],[im>10 for im in x[0]])\n",
    "\n",
    "pd.DataFrame.from_records(res)\n"
   ]
  },
  {
   "cell_type": "code",
   "execution_count": null,
   "metadata": {},
   "outputs": [],
   "source": [
    "import matplotlib.pyplot as plt\n",
    "plt.imshow(x[0,2]>10)\n",
    "I1 = x[0,2]\n",
    "M1 = x[0,2] > 10\n",
    "I2 = x[0,3]\n",
    "M2 = x[0,3] > 10\n",
    "I2[M2]\n"
   ]
  },
  {
   "cell_type": "code",
   "execution_count": null,
   "metadata": {},
   "outputs": [],
   "source": [
    "import tifffile\n",
    "tif = tifffile.TiffFile('/media/micro-nas-1/Bullock_lab/Yaiza/13:12:22/221115 BicD2-L790A-GFP HeLa FXR2 647 G3BP1 555 +As.lsm')\n",
    "filename = '/media/micro-nas-1/Bullock_lab/Yaiza/13:12:22/221115 BicD2-L790A-GFP HeLa FXR2 647 G3BP1 555 +As.lsm'\n",
    "with tifffile.TiffFile(filename) as tif:\n",
    "    md = tif.lsm_metadata\n",
    "\n",
    "md['VoxelSizeZ']*1e9"
   ]
  },
  {
   "cell_type": "code",
   "execution_count": null,
   "metadata": {},
   "outputs": [],
   "source": [
    "import sganalysiswf as sga\n",
    "from pathlib import Path\n",
    "folder = Path('/media/micro-nas-1/Bullock_lab/Yaiza/13:12:22/')\n",
    "L = sga.scan_folder_lsm(folder)\n",
    "n = L['channels'][0]\n",
    "\n",
    "config = {\n",
    "    'Channels':['A','B','C','D'],\n",
    "    'Nuclei': ['A','A'],\n",
    "    'Cells': ['A','B'],\n",
    "    'Particles':['C']\n",
    "}\n"
   ]
  },
  {
   "cell_type": "code",
   "execution_count": null,
   "metadata": {},
   "outputs": [],
   "source": []
  },
  {
   "cell_type": "code",
   "execution_count": null,
   "metadata": {},
   "outputs": [],
   "source": [
    "\n",
    "c = [config['channels'].index(c) for c in config['Particles']]\n",
    "sga.segment_granules(im[c])\n",
    "\n",
    "c = [config['channels'].index(c) for c in config['Nuclei']]\n",
    "c\n"
   ]
  },
  {
   "cell_type": "code",
   "execution_count": null,
   "metadata": {},
   "outputs": [],
   "source": [
    "import matplotlib.pyplot as plt\n",
    "import numpy as np\n",
    "im,p = sga.load_image(L['filename'][5],0)\n",
    "plt.imshow(np.amax(im[1:],axis=0))"
   ]
  },
  {
   "cell_type": "code",
   "execution_count": null,
   "metadata": {},
   "outputs": [],
   "source": [
    "m = sga.segment_cells(im, p, 20)\n",
    "plt.imshow(m+im[1])"
   ]
  },
  {
   "cell_type": "code",
   "execution_count": null,
   "metadata": {},
   "outputs": [],
   "source": [
    "import pandas as pd\n",
    "import sganalysiswf as sga\n",
    "cells = pd.read_csv('/media/cephfs/data/GFP-488 FXR1-555 G3BP1-647/results/cells.csv')\n",
    "a = cells.columns.tolist().index('Cell ID')+1\n",
    "b = cells.columns.tolist().index('Number of nuclei')+2\n",
    "sga.facet_plot(cells, cells.columns[a:b], 4)\n",
    "#cells.hist('Area of the whole cell [px^2]')\n",
    "#a = cells['Area of the whole cell [px^2]'].median()\n",
    "#plt.plot([a,a],[0,600])\n"
   ]
  },
  {
   "cell_type": "code",
   "execution_count": null,
   "metadata": {},
   "outputs": [],
   "source": [
    "import json\n",
    "config = json.load(open('/media/cephfs/data/GFP-488 FXR1-555 G3BP1-647/config.json','r'))\n",
    "filelist = pd.read_csv( '/media/cephfs/data/GFP-488 FXR1-555 G3BP1-647/filelist.csv')\n",
    "stats, mip, labels, rois = sga.process_fov('/media/cephfs/data/GFP-488 FXR1-555 G3BP1-647/'+filelist['filename'][0],1,config)\n",
    "\n"
   ]
  },
  {
   "cell_type": "code",
   "execution_count": null,
   "metadata": {},
   "outputs": [],
   "source": [
    "import matplotlib.pyplot as plt\n",
    "#sga.show_roi(rois[5],mip,labels)\n",
    "#plt.imshow(rois['granule'])\n",
    "len(rois)\n",
    "sga.show_image(mip,labels,rois)"
   ]
  },
  {
   "cell_type": "code",
   "execution_count": null,
   "metadata": {},
   "outputs": [],
   "source": [
    "a = [x.area for x in rois]\n",
    "import numpy as np\n",
    "plt.hist(a)"
   ]
  },
  {
   "cell_type": "code",
   "execution_count": null,
   "metadata": {},
   "outputs": [],
   "source": [
    "#i,p=sga.load_image('/media/cephfs/data/GFP-488 FXR1-555 G3BP1-647/'+filelist['filename'][0],1)\n",
    "r=0.1*50*1e3/p[1]\n",
    "3.14159*r*r"
   ]
  },
  {
   "cell_type": "code",
   "execution_count": null,
   "metadata": {},
   "outputs": [],
   "source": [
    "import json\n",
    "from pathlib import Path\n",
    "import pandas as pd\n",
    "import sganalysiswf as sga\n",
    "folder = Path('/media/cephfs/data/GFP-488 FXR1-555 G3BP1-647')\n",
    "filelist = pd.read_csv(folder / 'filelist.csv')\n",
    "config = json.load(open(folder / 'config.json','r'))\n",
    "imgidx=32\n",
    "stats, mip, labels, rois = sga.process_fov(folder / filelist['filename'][imgidx],filelist['fov'][imgidx],config)\n",
    "#sga.show_image(mip,labels,rois)\n"
   ]
  },
  {
   "cell_type": "code",
   "execution_count": null,
   "metadata": {},
   "outputs": [],
   "source": [
    "import matplotlib.pyplot as plt\n",
    "sga.show_image(mip,labels,rois)\n",
    "plt.title(filelist['condition'][imgidx])"
   ]
  },
  {
   "cell_type": "code",
   "execution_count": null,
   "metadata": {},
   "outputs": [],
   "source": [
    "import matplotlib.pyplot as plt\n",
    "cellidx=2\n",
    "ma,cr = sga.compute_roi_masks(rois[[x.label for x in rois].index(cellidx)],labels, mip)\n",
    "plt.imshow((ma['particle']>0))#+2*(ma['other']>0))\n",
    "#plt.imshow(cr['other'])"
   ]
  },
  {
   "cell_type": "code",
   "execution_count": null,
   "metadata": {},
   "outputs": [],
   "source": [
    "idx = 23\n",
    "sga.show_roi(rois[[x.label for x in rois].index(idx)], mip, labels)"
   ]
  },
  {
   "cell_type": "code",
   "execution_count": null,
   "metadata": {},
   "outputs": [],
   "source": [
    "plt.imshow(mip['granule'])"
   ]
  },
  {
   "cell_type": "code",
   "execution_count": null,
   "metadata": {},
   "outputs": [],
   "source": [
    "cells=[]\n",
    "filelist = pd.read_csv(folder / 'filelist.csv',index_col='index')\n",
    "for k in range(len(filelist)):\n",
    "    try:\n",
    "        cells.append(pd.read_csv(folder/'results'/f'cells{k:06d}.csv'))\n",
    "    except:\n",
    "        print(f'missing {k}')\n",
    "\n",
    "cells = pd.concat(cells)\n",
    "cells = cells.join(filelist,on='index')\n",
    "cells\n"
   ]
  },
  {
   "cell_type": "code",
   "execution_count": null,
   "metadata": {},
   "outputs": [],
   "source": [
    "a = cells.columns.tolist().index('Cell ID')+1\n",
    "b = cells.columns.tolist().index('Number of nuclei')+2\n",
    "sga.facet_plot(cells, cells.columns[a:b], 4)"
   ]
  }
 ],
 "metadata": {
  "kernelspec": {
   "display_name": "sganalysis",
   "language": "python",
   "name": "python3"
  },
  "language_info": {
   "codemirror_mode": {
    "name": "ipython",
    "version": 3
   },
   "file_extension": ".py",
   "mimetype": "text/x-python",
   "name": "python",
   "nbconvert_exporter": "python",
   "pygments_lexer": "ipython3",
   "version": "3.9.13"
  },
  "vscode": {
   "interpreter": {
    "hash": "e38dc8c4e4b92370804b921a2bd9d899fdbf63196076d47e0c46b0bd0b1c72f0"
   }
  }
 },
 "nbformat": 4,
 "nbformat_minor": 2
}
